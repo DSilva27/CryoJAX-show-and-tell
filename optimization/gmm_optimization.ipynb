{
 "cells": [
  {
   "cell_type": "markdown",
   "id": "077a4049",
   "metadata": {},
   "source": [
    "# GMM Optimization tutorial\n",
    "\n",
    "In this tutorial we will optimize a Gaussian Mixture Model by comparing it to a dataset of images. This showcases JAX's autodifferentiation capabilities and the possibility to connect cryoJAX to other libraries in the JAX ecosystem. For this tutorial we will use optax, so make sure to install it!\n",
    "\n",
    "`pip install optax`\n",
    "\n",
    "In addition, we will show how external dataloaders can be used with cryojax datasets. We will use the amazing and simple dataloader implemented by Hangzhi Guo (PhD Candidate at Penn State University):\n",
    "\n",
    "`pip install jax-dataloader`"
   ]
  },
  {
   "cell_type": "code",
   "execution_count": null,
   "id": "1070795a",
   "metadata": {},
   "outputs": [],
   "source": [
    "from tqdm import tqdm\n",
    "import matplotlib.pyplot as plt\n",
    "\n",
    "import jax\n",
    "import jax.numpy as jnp\n",
    "import equinox as eqx\n",
    "import optax\n",
    "import jax_dataloader as jdl\n",
    "\n",
    "import cryojax as cx\n",
    "import cryojax.simulator as cxs\n",
    "\n",
    "from cryojax.constants import (\n",
    "    get_tabulated_scattering_factor_parameters,\n",
    "    convert_b_factor_to_variance,\n",
    ")\n",
    "from cryojax.io import read_atoms_from_pdb"
   ]
  },
  {
   "cell_type": "markdown",
   "id": "9573139e",
   "metadata": {},
   "source": [
    "To be able to use the jax-dataloader library we need to create a wrapper on cryoJAX's relion dataset. This can be simply done as:"
   ]
  },
  {
   "cell_type": "code",
   "execution_count": null,
   "id": "7a50c4ac",
   "metadata": {},
   "outputs": [],
   "source": [
    "class WrapperRelionStackDataset(jdl.Dataset):\n",
    "    def __init__(self, cryojax_dataset: cx.data.RelionParticleStackDataset):\n",
    "        self.cryojax_dataset = cryojax_dataset\n",
    "\n",
    "    def __getitem__(self, index):\n",
    "        return self.cryojax_dataset[index]\n",
    "\n",
    "    def __len__(self) -> int:\n",
    "        return len(self.cryojax_dataset)"
   ]
  },
  {
   "cell_type": "markdown",
   "id": "59bc355f",
   "metadata": {},
   "source": [
    "# 1. Loading the data and preparing the GMM\n",
    "\n",
    "We will use the data generated in the `../generating_data/data_generator.ipynb` tutorial. The initial GMM will be used is based on chain of GroEL in a different configuration as holo GroEL (see previous tutorial), we will refer to this initial state as apo GroEL."
   ]
  },
  {
   "cell_type": "markdown",
   "id": "850a9c8f",
   "metadata": {},
   "source": [
    "## Loading the dataset"
   ]
  },
  {
   "cell_type": "code",
   "execution_count": null,
   "id": "2c52756c",
   "metadata": {},
   "outputs": [],
   "source": [
    "relion_dataset = cx.data.RelionParticleStackDataset(\n",
    "    cx.data.RelionParticleParameterFile(\n",
    "        \"../generating_data/dataset/relion_dataset.star\", mode=\"r\"\n",
    "    ),\n",
    "    path_to_relion_project=\"../generating_data/dataset/particles/\",\n",
    "    mode=\"r\",\n",
    ")"
   ]
  },
  {
   "cell_type": "markdown",
   "id": "10ee87bd",
   "metadata": {},
   "source": [
    "## Defining the initial GMM\n",
    "\n",
    "We will follow an initial approach as before, but now we will use the scattering parameters to define the gaussian amplitudes and variances that we will use to define a GMM potential. As before, we will also instatiate a potential integrator."
   ]
  },
  {
   "cell_type": "code",
   "execution_count": null,
   "id": "002ed976",
   "metadata": {},
   "outputs": [],
   "source": [
    "potential_integrator = cxs.GaussianMixtureProjection(\n",
    "    upsampling_factor=None,  # you can set this to compute the projection at a higher resolution\n",
    "    shape=None,  # we will just use the shape of the instrument config\n",
    "    use_error_functions=False,  # better quality, but slower\n",
    "    n_batches=1,  # batch the computation to subsets of atoms, helps with memory management\n",
    ")"
   ]
  },
  {
   "cell_type": "code",
   "execution_count": null,
   "id": "af4a897f",
   "metadata": {},
   "outputs": [],
   "source": [
    "def load_gmm_from_pdb(path_to_pdb):\n",
    "    atom_positions, atom_identities, b_factors = read_atoms_from_pdb(\n",
    "        path_to_pdb,\n",
    "        center=True,\n",
    "        selection_string=\"not element H\",\n",
    "        loads_b_factors=True,\n",
    "    )\n",
    "\n",
    "    scattering_factor_parameters = get_tabulated_scattering_factor_parameters(\n",
    "        atom_identities=atom_identities,\n",
    "    )\n",
    "\n",
    "    gaussian_amplitudes = scattering_factor_parameters[\"a\"]\n",
    "    gaussian_variances = convert_b_factor_to_variance(\n",
    "        scattering_factor_parameters[\"b\"] + b_factors[:, None]\n",
    "    )\n",
    "    return atom_positions, gaussian_amplitudes, gaussian_variances\n",
    "\n",
    "\n",
    "path_to_apo_pdb = \"../atomic_models/apo_groel.pdb\"\n",
    "apo_atom_pos, apo_gaussian_amp, apo_gaussian_var = load_gmm_from_pdb(path_to_apo_pdb)"
   ]
  },
  {
   "cell_type": "markdown",
   "id": "f0908a16",
   "metadata": {},
   "source": [
    "# 2. Defining a loss function\n",
    "\n",
    "We will define a gmm-to-image loss function. For this tutorial we will use a simple l2 loss, defined as\n",
    "\n",
    "\\begin{equation}\n",
    "d(\\textrm{GMM}, \\textrm{Image}) = \\min_{a > 0, b} \\|a * \\textrm{ForwardModel}(\\textrm{GMM}) - \\textrm{Image} + b \\|^2.\n",
    "\\end{equation}\n",
    "\n",
    "Here $a$ and $b$ correspond to a scale and offset correction when comparing the simulated image to the experimental images. The forward model is simply cryoJAX's forward model. The minimization over $a$ and $b$ can be computed analytically and its derivation is skipped for this tutorial.\n",
    "\n",
    "The loss to be minimized will be defined on a batch of images as:\n",
    "\\begin{equation}\n",
    "    L(\\textrm{GMM}, \\textrm{Images}) = \\frac{1}{B} \\sum_{i=1}^{B} d(\\textrm{GMM}, \\textrm{Image}_i),\n",
    "\\end{equation}\n",
    "\n",
    "where $B$ is the batch size."
   ]
  },
  {
   "cell_type": "code",
   "execution_count": null,
   "id": "24b51ad6",
   "metadata": {},
   "outputs": [],
   "source": [
    "def forward_model(\n",
    "    atom_positions,\n",
    "    gaussian_amplitudes,\n",
    "    gaussian_variances,\n",
    "    relion_stack,\n",
    "    potential_integrator,\n",
    "):\n",
    "    potential = cxs.GaussianMixtureAtomicPotential(\n",
    "        atom_positions, gaussian_amplitudes, gaussian_variances\n",
    "    )\n",
    "\n",
    "    structural_ensemble = cxs.SingleStructureEnsemble(\n",
    "        potential, relion_stack[\"parameters\"][\"pose\"]\n",
    "    )\n",
    "\n",
    "    scattering_theory = cxs.WeakPhaseScatteringTheory(\n",
    "        structural_ensemble,\n",
    "        potential_integrator,\n",
    "        relion_stack[\"parameters\"][\"transfer_theory\"],\n",
    "    )\n",
    "\n",
    "    image_model = cxs.ContrastImageModel(\n",
    "        relion_stack[\"parameters\"][\"instrument_config\"], scattering_theory\n",
    "    )\n",
    "    return image_model.render()\n",
    "\n",
    "\n",
    "def gmm_to_image_loss(\n",
    "    atom_positions,\n",
    "    gaussian_amplitudes,\n",
    "    gaussian_variances,\n",
    "    relion_stack,\n",
    "    potential_integrator,\n",
    "):\n",
    "    computed_image = forward_model(\n",
    "        atom_positions,\n",
    "        gaussian_amplitudes,\n",
    "        gaussian_variances,\n",
    "        relion_stack,\n",
    "        potential_integrator,\n",
    "    )\n",
    "    observed_image = relion_stack[\"images\"]\n",
    "\n",
    "    cc = jnp.mean(computed_image**2)\n",
    "    co = jnp.mean(observed_image * computed_image)\n",
    "    c = jnp.mean(computed_image)\n",
    "    o = jnp.mean(observed_image)\n",
    "\n",
    "    scale = (co - c * o) / (cc - c**2)\n",
    "    offset = o - scale * c\n",
    "\n",
    "    return jnp.sum((scale * computed_image - observed_image + offset) ** 2)\n"
   ]
  },
  {
   "cell_type": "markdown",
   "id": "80345785",
   "metadata": {},
   "source": [
    "Now we can define the loss for a batch of images by simply using `equinox.filter_vmap`. In additon, we will use `equinox.filter_jit` to compile the function using just-in-time compilation (makes it run fast!)."
   ]
  },
  {
   "cell_type": "code",
   "execution_count": null,
   "id": "3e7b4112",
   "metadata": {},
   "outputs": [],
   "source": [
    "@eqx.filter_jit\n",
    "def gmm_to_image_batch_loss(\n",
    "    atom_positions,\n",
    "    gaussian_amplitudes,\n",
    "    gaussian_variances,\n",
    "    relion_stack,\n",
    "    potential_integrator,\n",
    "):\n",
    "    loss = eqx.filter_vmap(\n",
    "        lambda x: gmm_to_image_loss(\n",
    "            atom_positions,\n",
    "            gaussian_amplitudes,\n",
    "            gaussian_variances,\n",
    "            x,\n",
    "            potential_integrator,\n",
    "        ),\n",
    "        in_axes=eqx.if_array(0),\n",
    "    )(relion_stack)\n",
    "\n",
    "    return jnp.mean(loss)"
   ]
  },
  {
   "cell_type": "markdown",
   "id": "2b1152f8",
   "metadata": {},
   "source": [
    "Let's compute the loos once to confirm it works:"
   ]
  },
  {
   "cell_type": "code",
   "execution_count": null,
   "id": "e535fb76",
   "metadata": {},
   "outputs": [],
   "source": [
    "gmm_to_image_batch_loss(\n",
    "    apo_atom_pos,\n",
    "    apo_gaussian_amp,\n",
    "    apo_gaussian_var,\n",
    "    relion_dataset[0:10],\n",
    "    potential_integrator,\n",
    ")"
   ]
  },
  {
   "cell_type": "markdown",
   "id": "b9c38421",
   "metadata": {},
   "source": [
    "In addition, let's compute it for the GMM defined by the holo conformation and make sure that the loss is lower"
   ]
  },
  {
   "cell_type": "code",
   "execution_count": null,
   "id": "aab949c1",
   "metadata": {},
   "outputs": [],
   "source": [
    "path_to_holo_pdb = \"../atomic_models/holo_groel.pdb\"\n",
    "\n",
    "holo_pos, holo_gaussian_amp, holo_gaussian_var = load_gmm_from_pdb(path_to_holo_pdb)\n",
    "\n",
    "gmm_to_image_batch_loss(\n",
    "    holo_pos,\n",
    "    holo_gaussian_amp,\n",
    "    holo_gaussian_var,\n",
    "    relion_dataset[0:10],\n",
    "    potential_integrator,\n",
    ")"
   ]
  },
  {
   "cell_type": "markdown",
   "id": "162b7f87",
   "metadata": {},
   "source": [
    "# 3. Running the optimization"
   ]
  },
  {
   "cell_type": "markdown",
   "id": "0de897f4",
   "metadata": {},
   "source": [
    "## Defining the dataloader"
   ]
  },
  {
   "cell_type": "code",
   "execution_count": null,
   "id": "47c05664",
   "metadata": {},
   "outputs": [],
   "source": [
    "dataloader = jdl.DataLoader(\n",
    "    WrapperRelionStackDataset(\n",
    "        relion_dataset\n",
    "    ),  # Can be a jdl.Dataset or pytorch or huggingface or tensorflow dataset\n",
    "    backend=\"jax\",  # Use 'jax' backend for loading data\n",
    "    batch_size=100,  # Batch size\n",
    "    shuffle=True,  # Shuffle the dataloader every iteration or not\n",
    "    drop_last=False,  # Drop the last batch or not\n",
    ")"
   ]
  },
  {
   "cell_type": "markdown",
   "id": "4d3283d3",
   "metadata": {},
   "source": [
    "## Initializing the optimizer\n",
    "\n",
    "We will be using Google's optax which provides a wide range of optimization methods that can directly interact with cryoJAX. This library also provides other optimization utilities such as projections and schedulers for hyperparameters."
   ]
  },
  {
   "cell_type": "code",
   "execution_count": null,
   "id": "8df27683",
   "metadata": {},
   "outputs": [],
   "source": [
    "loss_fn = lambda x, y: gmm_to_image_batch_loss(\n",
    "    atom_positions=x,\n",
    "    gaussian_amplitudes=apo_gaussian_amp,\n",
    "    gaussian_variances=apo_gaussian_var,\n",
    "    relion_stack=y,\n",
    "    potential_integrator=potential_integrator,\n",
    ")\n",
    "\n",
    "loss_and_grad_fn = jax.value_and_grad(loss_fn, argnums=0)"
   ]
  },
  {
   "cell_type": "code",
   "execution_count": null,
   "id": "5347baba",
   "metadata": {},
   "outputs": [],
   "source": [
    "params = apo_atom_pos.copy()  # the quantity to be optimized\n",
    "\n",
    "solver = optax.adabelief(learning_rate=2e-1, nesterov=True)\n",
    "opt_state = solver.init(params)\n",
    "\n",
    "n_iters = 200\n",
    "progress_bar = tqdm(range(n_iters), desc=\"GMM Optimization\", leave=True)\n",
    "for _ in progress_bar:\n",
    "    batch = next(iter(dataloader))\n",
    "    loss, grad = loss_and_grad_fn(params, batch)\n",
    "    progress_bar.set_postfix({\"Loss\": loss.item()})\n",
    "\n",
    "    # Update the parameters using the optimizer\n",
    "    updates, opt_state = solver.update(grad, opt_state, params)\n",
    "    params = optax.apply_updates(params, updates)\n"
   ]
  },
  {
   "cell_type": "code",
   "execution_count": null,
   "id": "02cffd96",
   "metadata": {},
   "outputs": [],
   "source": [
    "params = apo_atom_pos.copy()  # the quantity to be optimized\n",
    "\n",
    "solver = optax.adam(learning_rate=2e-1, nesterov=True)\n",
    "opt_state = solver.init(params)\n",
    "\n",
    "n_iters = 200\n",
    "progress_bar = tqdm(range(n_iters), desc=\"GMM Optimization\", leave=True)\n",
    "for _ in progress_bar:\n",
    "    batch = next(iter(dataloader))\n",
    "    loss, grad = loss_and_grad_fn(params, batch)\n",
    "    progress_bar.set_postfix({\"Loss\": loss.item()})\n",
    "\n",
    "    # Update the parameters using the optimizer\n",
    "    updates, opt_state = solver.update(grad, opt_state, params)\n",
    "    params = optax.apply_updates(params, updates)\n"
   ]
  },
  {
   "cell_type": "code",
   "execution_count": null,
   "id": "5c4ec6ff",
   "metadata": {},
   "outputs": [],
   "source": [
    "params = apo_atom_pos.copy()  # the quantity to be optimized\n",
    "\n",
    "solver = optax.lbfgs()\n",
    "opt_state = solver.init(params)\n",
    "\n",
    "n_iters = 200\n",
    "progress_bar = tqdm(range(n_iters), desc=\"GMM Optimization\", leave=True)\n",
    "for _ in progress_bar:\n",
    "    batch = next(iter(dataloader))\n",
    "    loss, grad = loss_and_grad_fn(params, batch)\n",
    "    progress_bar.set_postfix({\"Loss\": loss.item()})\n",
    "\n",
    "    # Update the parameters using the optimizer\n",
    "    updates, opt_state = solver.update(\n",
    "        grad,\n",
    "        opt_state,\n",
    "        params,\n",
    "        value=loss,\n",
    "        grad=grad,\n",
    "        value_fn=lambda x: loss_fn(x, batch),\n",
    "    )\n",
    "    params = optax.apply_updates(params, updates)\n"
   ]
  },
  {
   "cell_type": "markdown",
   "id": "9849e995",
   "metadata": {},
   "source": [
    "# 4. Analysis"
   ]
  },
  {
   "cell_type": "markdown",
   "id": "d809f9f2",
   "metadata": {},
   "source": [
    "CryoJAX also provides utilities for analysis. In this case we will use the commonly used FSC to compare the volume generated from the Ground Truth GMM and our optimized GMM."
   ]
  },
  {
   "cell_type": "code",
   "execution_count": null,
   "id": "db750bfb",
   "metadata": {},
   "outputs": [],
   "source": [
    "def gmm_to_volume(\n",
    "    shape, voxel_size, atom_positions, gaussian_amplitudes, gaussian_variances\n",
    "):\n",
    "    \"\"\"Convert GMM parameters to a 3D volume.\"\"\"\n",
    "    potential = cxs.GaussianMixtureAtomicPotential(\n",
    "        atom_positions, gaussian_amplitudes, gaussian_variances\n",
    "    )\n",
    "    return potential.as_real_voxel_grid(shape, voxel_size)\n",
    "\n",
    "\n",
    "instrument_config = relion_dataset[0][\"parameters\"][\"instrument_config\"]\n",
    "box_size = instrument_config.shape[0]\n",
    "voxel_size = instrument_config.pixel_size\n",
    "\n",
    "apo_volume = gmm_to_volume(\n",
    "    shape=(box_size, box_size, box_size),\n",
    "    voxel_size=voxel_size,\n",
    "    atom_positions=apo_atom_pos,\n",
    "    gaussian_amplitudes=apo_gaussian_amp,\n",
    "    gaussian_variances=apo_gaussian_var,\n",
    ")\n",
    "\n",
    "holo_volume = gmm_to_volume(\n",
    "    shape=(box_size, box_size, box_size),\n",
    "    voxel_size=voxel_size,\n",
    "    atom_positions=holo_pos,\n",
    "    gaussian_amplitudes=holo_gaussian_amp,\n",
    "    gaussian_variances=holo_gaussian_var,\n",
    ")\n",
    "\n",
    "opt_volume = gmm_to_volume(\n",
    "    shape=(box_size, box_size, box_size),\n",
    "    voxel_size=voxel_size,\n",
    "    atom_positions=params,\n",
    "    gaussian_amplitudes=apo_gaussian_amp,\n",
    "    gaussian_variances=apo_gaussian_var,\n",
    ")"
   ]
  },
  {
   "cell_type": "code",
   "execution_count": null,
   "id": "e297848e",
   "metadata": {},
   "outputs": [],
   "source": [
    "fig, ax = plt.subplots(1, 2, figsize=(10, 5))\n",
    "\n",
    "ax[0].scatter(holo_pos[:, 0], holo_pos[:, 1], alpha=0.5, color=\"orange\")\n",
    "ax[0].scatter(apo_atom_pos[:, 0], apo_atom_pos[:, 1], alpha=0.5, color=\"blue\")\n",
    "\n",
    "\n",
    "ax[1].scatter(holo_pos[:, 0], holo_pos[:, 1], alpha=0.5, color=\"orange\")\n",
    "ax[1].scatter(params[:, 0], params[:, 1], alpha=0.5, color=\"blue\")\n"
   ]
  },
  {
   "cell_type": "code",
   "execution_count": null,
   "id": "28c962d3",
   "metadata": {},
   "outputs": [],
   "source": [
    "fig, ax = plt.subplots(1, 3, figsize=(15, 5))\n",
    "ax[0].imshow(apo_volume.sum(0), cmap=\"gray\", origin=\"lower\")\n",
    "ax[0].set_title(\"Apo Volume\")\n",
    "ax[1].imshow(holo_volume.sum(0), cmap=\"gray\", origin=\"lower\")\n",
    "ax[1].set_title(\"Holo Volume\")\n",
    "ax[2].imshow(opt_volume.sum(0), cmap=\"gray\", origin=\"lower\")\n",
    "ax[2].set_title(\"Optimized Volume\")"
   ]
  },
  {
   "cell_type": "code",
   "execution_count": null,
   "id": "67760b7d",
   "metadata": {},
   "outputs": [],
   "source": [
    "holo_volume_fft = cx.image.rfftn(holo_volume)\n",
    "opt_volume_fft = cx.image.rfftn(opt_volume)\n",
    "apo_volume_fft = cx.image.rfftn(apo_volume)\n",
    "\n",
    "radial_frequency_grid = cx.coordinates.make_radial_frequency_grid(\n",
    "    holo_volume.shape, voxel_size, outputs_rfftfreqs=True\n",
    ")\n",
    "\n",
    "\n",
    "initial_fsc_curve, frequency_bins, _ = cx.image.compute_fourier_shell_correlation(\n",
    "    holo_volume_fft, apo_volume_fft, radial_frequency_grid, voxel_size\n",
    ")\n",
    "\n",
    "optimized_fsc_curve, _, _ = cx.image.compute_fourier_shell_correlation(\n",
    "    holo_volume_fft, opt_volume_fft, radial_frequency_grid, voxel_size\n",
    ")"
   ]
  },
  {
   "cell_type": "code",
   "execution_count": null,
   "id": "f4a885a3",
   "metadata": {},
   "outputs": [],
   "source": [
    "plt.plot(frequency_bins, initial_fsc_curve, label=\"Initial FSC\")\n",
    "plt.plot(frequency_bins, optimized_fsc_curve, label=\"Optimized FSC\")\n",
    "plt.xlabel(\"Frequency (1/Å)\")\n",
    "plt.ylabel(\"FSC\")\n",
    "plt.legend()"
   ]
  }
 ],
 "metadata": {
  "kernelspec": {
   "display_name": "cryojax_showtell_kernel",
   "language": "python",
   "name": "cryojax_showtell_kernel"
  },
  "language_info": {
   "codemirror_mode": {
    "name": "ipython",
    "version": 3
   },
   "file_extension": ".py",
   "mimetype": "text/x-python",
   "name": "python",
   "nbconvert_exporter": "python",
   "pygments_lexer": "ipython3",
   "version": "3.11.7"
  }
 },
 "nbformat": 4,
 "nbformat_minor": 5
}
